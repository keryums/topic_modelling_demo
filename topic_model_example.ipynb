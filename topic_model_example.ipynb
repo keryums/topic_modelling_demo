{
 "cells": [
  {
   "cell_type": "code",
   "execution_count": 1,
   "metadata": {
    "ExecuteTime": {
     "end_time": "2018-12-17T22:31:58.474241Z",
     "start_time": "2018-12-17T22:31:56.298343Z"
    }
   },
   "outputs": [
    {
     "data": {
      "text/html": [
       "<style>.container {width:100% !important;} </style>"
      ],
      "text/plain": [
       "<IPython.core.display.HTML object>"
      ]
     },
     "metadata": {},
     "output_type": "display_data"
    }
   ],
   "source": [
    "import warnings\n",
    "warnings.filterwarnings(\"ignore\")\n",
    "\n",
    "import pandas as pd \n",
    "import numpy as np\n",
    "import re\n",
    "import string\n",
    "import collections\n",
    "import matplotlib.pyplot as plt\n",
    "import time \n",
    "\n",
    "import sys\n",
    "sys.path.insert(0, 'helpers/')\n",
    "from helper_base import *\n",
    "from helper_prep import *\n",
    "from helper_model import *\n",
    "\n",
    "from gensim.models import Word2Vec"
   ]
  },
  {
   "cell_type": "code",
   "execution_count": 6,
   "metadata": {
    "ExecuteTime": {
     "end_time": "2018-12-13T16:20:03.940303Z",
     "start_time": "2018-12-13T16:20:03.099768Z"
    }
   },
   "outputs": [],
   "source": [
    "df = pd.read_csv('../df_output_20181213_1004.csv')"
   ]
  },
  {
   "cell_type": "markdown",
   "metadata": {},
   "source": [
    "Below we create a lemmatized version of the text field since our n-grams were identified on lemmas:"
   ]
  },
  {
   "cell_type": "code",
   "execution_count": 84,
   "metadata": {
    "ExecuteTime": {
     "end_time": "2018-12-14T18:20:38.753975Z",
     "start_time": "2018-12-14T18:17:57.716842Z"
    }
   },
   "outputs": [],
   "source": [
    "df['tokenized_text'] = df.reviews_regram.apply(lambda x: ' '.join(retokenize(x))) "
   ]
  },
  {
   "cell_type": "code",
   "execution_count": 85,
   "metadata": {
    "ExecuteTime": {
     "end_time": "2018-12-14T18:20:38.787184Z",
     "start_time": "2018-12-14T18:20:38.756057Z"
    },
    "scrolled": true
   },
   "outputs": [
    {
     "data": {
      "text/html": [
       "<div>\n",
       "<style scoped>\n",
       "    .dataframe tbody tr th:only-of-type {\n",
       "        vertical-align: middle;\n",
       "    }\n",
       "\n",
       "    .dataframe tbody tr th {\n",
       "        vertical-align: top;\n",
       "    }\n",
       "\n",
       "    .dataframe thead th {\n",
       "        text-align: right;\n",
       "    }\n",
       "</style>\n",
       "<table border=\"1\" class=\"dataframe\">\n",
       "  <thead>\n",
       "    <tr style=\"text-align: right;\">\n",
       "      <th></th>\n",
       "      <th>reviewerID</th>\n",
       "      <th>asin</th>\n",
       "      <th>reviewerName</th>\n",
       "      <th>helpful</th>\n",
       "      <th>reviewText</th>\n",
       "      <th>overall</th>\n",
       "      <th>summary</th>\n",
       "      <th>unixReviewTime</th>\n",
       "      <th>reviewTime</th>\n",
       "      <th>review_year</th>\n",
       "      <th>reviews_clean</th>\n",
       "      <th>reviews_regram</th>\n",
       "      <th>tokenized_text</th>\n",
       "    </tr>\n",
       "  </thead>\n",
       "  <tbody>\n",
       "    <tr>\n",
       "      <th>0</th>\n",
       "      <td>A1VEELTKS8NLZB</td>\n",
       "      <td>616719923X</td>\n",
       "      <td>Amazon Customer</td>\n",
       "      <td>[0, 0]</td>\n",
       "      <td>Just another flavor of Kit Kat but the taste i...</td>\n",
       "      <td>4.0</td>\n",
       "      <td>Good Taste</td>\n",
       "      <td>1370044800</td>\n",
       "      <td>06 1, 2013</td>\n",
       "      <td>2013</td>\n",
       "      <td>just another flavor of kit kat but the taste i...</td>\n",
       "      <td>just another flavor of kit kat but the taste i...</td>\n",
       "      <td>another flavor kit kat taste unique bit differ...</td>\n",
       "    </tr>\n",
       "  </tbody>\n",
       "</table>\n",
       "</div>"
      ],
      "text/plain": [
       "       reviewerID        asin     reviewerName helpful  \\\n",
       "0  A1VEELTKS8NLZB  616719923X  Amazon Customer  [0, 0]   \n",
       "\n",
       "                                          reviewText  overall     summary  \\\n",
       "0  Just another flavor of Kit Kat but the taste i...      4.0  Good Taste   \n",
       "\n",
       "   unixReviewTime  reviewTime  review_year  \\\n",
       "0      1370044800  06 1, 2013         2013   \n",
       "\n",
       "                                       reviews_clean  \\\n",
       "0  just another flavor of kit kat but the taste i...   \n",
       "\n",
       "                                      reviews_regram  \\\n",
       "0  just another flavor of kit kat but the taste i...   \n",
       "\n",
       "                                      tokenized_text  \n",
       "0  another flavor kit kat taste unique bit differ...  "
      ]
     },
     "metadata": {},
     "output_type": "display_data"
    }
   ],
   "source": [
    "display_all(df[:1])"
   ]
  },
  {
   "cell_type": "code",
   "execution_count": 9,
   "metadata": {
    "ExecuteTime": {
     "end_time": "2018-12-13T16:24:24.846460Z",
     "start_time": "2018-12-13T16:24:24.842501Z"
    }
   },
   "outputs": [
    {
     "data": {
      "text/plain": [
       "(51894, 12)"
      ]
     },
     "execution_count": 9,
     "metadata": {},
     "output_type": "execute_result"
    }
   ],
   "source": [
    "df.shape"
   ]
  },
  {
   "cell_type": "markdown",
   "metadata": {},
   "source": [
    "# Vectorization"
   ]
  },
  {
   "cell_type": "markdown",
   "metadata": {},
   "source": [
    "The function `get_vecs()` applies both count vectorization and TF-IDF vectorization to the text field. Both variations can then be passed into the topic models for consideration. "
   ]
  },
  {
   "cell_type": "code",
   "execution_count": 18,
   "metadata": {
    "ExecuteTime": {
     "end_time": "2018-12-13T16:51:24.069094Z",
     "start_time": "2018-12-13T16:45:49.228805Z"
    }
   },
   "outputs": [
    {
     "name": "stdout",
     "output_type": "stream",
     "text": [
      "Num. Features (Count Vec):  46891\n",
      "Num. Features (TFIDF Vec):  46891\n",
      "\n",
      "Dim. Docs (Count Vec):  (51894, 46891)\n",
      "Dim. Docs (TFIDF Vec):  (51894, 46891)\n"
     ]
    }
   ],
   "source": [
    "sentences = df.reviews_regram\n",
    "cv_features, cv_docs, tf_features, tf_docs = get_vecs(sentences)"
   ]
  },
  {
   "cell_type": "markdown",
   "metadata": {},
   "source": [
    "Below we try two topic models: Latent Dirichlet Allocation-based modelling using [gensim's LDA model](https://radimrehurek.com/gensim/models/ldamodel.html), as well as Greg Ver Steeg's [Correlation Explanation (CorEx)](https://github.com/gregversteeg/corex_topic) model. We found that CorEx was more effective than LDA on our survey data, possibly due to the small data size. It also provides a simple way to seed/anchor tokens of interest. \n",
    "\n",
    "The functions `get_gensim_topics()` and `get_corex_topics()` run both models using grid search on the hyperparameter `n`, the number of topics to generate, and calculate the key metric for each variation - coherence for LDA and correlation for CorEx. `pick_top_n()` then finds the hyperparameter(s) `n` that maximize(s) coherence/correlation so that we can view the optimal model(s) output.\n",
    "\n",
    "For grid search, we used `list(range(12,32,2))`, though this range is pretty variable. Just note that perplexity monotonically decreases as `n` increases, coherence goes up and down, and higher `n` is obviously harder to interpret by eye. For the purposes of this demo, we'll apply grid search on a smaller range. "
   ]
  },
  {
   "cell_type": "markdown",
   "metadata": {},
   "source": [
    "## LDA"
   ]
  },
  {
   "cell_type": "code",
   "execution_count": 20,
   "metadata": {
    "ExecuteTime": {
     "end_time": "2018-12-13T17:13:31.275889Z",
     "start_time": "2018-12-13T17:06:27.218264Z"
    }
   },
   "outputs": [
    {
     "name": "stdout",
     "output_type": "stream",
     "text": [
      "\n",
      "\n",
      "\n",
      "\n",
      "\n"
     ]
    }
   ],
   "source": [
    "num_topics_gensim = list(range(12,22,2))\n",
    "perplexity, coherence = get_gensim_topics(num_topics_gensim, sentences)"
   ]
  },
  {
   "cell_type": "code",
   "execution_count": 25,
   "metadata": {
    "ExecuteTime": {
     "end_time": "2018-12-13T17:16:43.954044Z",
     "start_time": "2018-12-13T17:16:43.865659Z"
    },
    "scrolled": true
   },
   "outputs": [
    {
     "data": {
      "image/png": "[encoded data removed]",
      "text/plain": [
       "<Figure size 432x288 with 1 Axes>"
      ]
     },
     "metadata": {},
     "output_type": "display_data"
    }
   ],
   "source": [
    "plt.plot(num_topics_gensim, perplexity)\n",
    "plt.title('Perplexity Plot')\n",
    "plt.show()"
   ]
  },
  {
   "cell_type": "code",
   "execution_count": 26,
   "metadata": {
    "ExecuteTime": {
     "end_time": "2018-12-13T17:16:55.728882Z",
     "start_time": "2018-12-13T17:16:55.644591Z"
    }
   },
   "outputs": [
    {
     "data": {
      "image/png": "[encoded data removed]",
      "text/plain": [
       "<Figure size 432x288 with 1 Axes>"
      ]
     },
     "metadata": {},
     "output_type": "display_data"
    }
   ],
   "source": [
    "plt.plot(num_topics_gensim, coherence)\n",
    "plt.title('Coherence Plot')\n",
    "plt.show()"
   ]
  },
  {
   "cell_type": "code",
   "execution_count": 29,
   "metadata": {
    "ExecuteTime": {
     "end_time": "2018-12-13T17:17:27.991969Z",
     "start_time": "2018-12-13T17:17:27.988547Z"
    }
   },
   "outputs": [
    {
     "name": "stdout",
     "output_type": "stream",
     "text": [
      "Best Num. Topics:  [12]\n"
     ]
    }
   ],
   "source": [
    "top_n = pick_top_n(coherence, num_topics_gensim, 1)"
   ]
  },
  {
   "cell_type": "code",
   "execution_count": 30,
   "metadata": {
    "ExecuteTime": {
     "end_time": "2018-12-13T17:21:10.612744Z",
     "start_time": "2018-12-13T17:17:28.673018Z"
    },
    "scrolled": true
   },
   "outputs": [
    {
     "name": "stdout",
     "output_type": "stream",
     "text": [
      "Num. Topics:  12\n",
      "\n",
      "cooky , make , sugar , add , cookie , use , water , cup , mix , sweet\n",
      "popcorn , salt , bag , package , product , use , open , pop , would , corn\n",
      "fat , ingredient , calorie , oil , use , coconut_oil , product , contain , organic , gram\n",
      "price , buy , product , find , use , love , great , make , amazon , good\n",
      "flavor , like , taste , try , would , one , good , really , drink , chocolate\n",
      "use , tuna , make , work , easy , great , well , mix , come , container\n",
      "snack , love , one , like , bag , get , eat , buy , good , box\n",
      "like , taste , eat , would , good , try , think , bar , really , flavor\n",
      "rice , add , soup , sauce , flavor , cook , make , garlic , chicken , couscous\n",
      "coffee , cup , brew , kcup , keurig , blend , filter , use , machine , k\n",
      "tea , like , taste , flavor , make , lipton , one , use , try , get\n",
      "get , take , day , like , go , use , try , put , milk , one\n",
      "\n"
     ]
    }
   ],
   "source": [
    "_,_ = get_gensim_topics(top_n, sentences, print_flag = True)"
   ]
  },
  {
   "cell_type": "markdown",
   "metadata": {
    "ExecuteTime": {
     "end_time": "2018-12-13T17:23:16.328281Z",
     "start_time": "2018-12-13T17:23:16.323732Z"
    }
   },
   "source": [
    "We can already see that we have more or less cohesive topics around: cookies, popcorn, oil, coffee, tea"
   ]
  },
  {
   "cell_type": "markdown",
   "metadata": {},
   "source": [
    "## Corex with Count Vectorization"
   ]
  },
  {
   "cell_type": "markdown",
   "metadata": {},
   "source": [
    "Below, we run a version of the CorEx model using the count vectorization method. Note that you can also run a version with TF-IDF vectorization, using `tf_features` and `tf_docs` created above, and compare outputs. We generally found that as we were mostly interested in finding topics that were most representative in terms of volume/frequency, count vectorization was more effective.\n",
    "\n",
    "Let's use the same set of numbers we used in the gensim model for CorEx grid search."
   ]
  },
  {
   "cell_type": "code",
   "execution_count": 32,
   "metadata": {
    "ExecuteTime": {
     "end_time": "2018-12-13T17:32:49.083556Z",
     "start_time": "2018-12-13T17:23:26.696884Z"
    }
   },
   "outputs": [],
   "source": [
    "correlation = get_corex_topics(num_topics_gensim, cv_docs, cv_features)"
   ]
  },
  {
   "cell_type": "code",
   "execution_count": 33,
   "metadata": {
    "ExecuteTime": {
     "end_time": "2018-12-13T17:33:12.854290Z",
     "start_time": "2018-12-13T17:33:12.765259Z"
    },
    "scrolled": true
   },
   "outputs": [
    {
     "data": {
      "image/png": "[encoded data removed]",
      "text/plain": [
       "<Figure size 432x288 with 1 Axes>"
      ]
     },
     "metadata": {},
     "output_type": "display_data"
    }
   ],
   "source": [
    "plt.plot(num_topics_gensim, correlation)\n",
    "plt.title('Correlation Plot')\n",
    "plt.show()"
   ]
  },
  {
   "cell_type": "code",
   "execution_count": 34,
   "metadata": {
    "ExecuteTime": {
     "end_time": "2018-12-13T17:33:26.887587Z",
     "start_time": "2018-12-13T17:33:26.884037Z"
    }
   },
   "outputs": [
    {
     "name": "stdout",
     "output_type": "stream",
     "text": [
      "Best Num. Topics:  [20]\n"
     ]
    }
   ],
   "source": [
    "top_n_corex = pick_top_n(correlation, num_topics_gensim, 1)"
   ]
  },
  {
   "cell_type": "code",
   "execution_count": 35,
   "metadata": {
    "ExecuteTime": {
     "end_time": "2018-12-13T17:35:31.365158Z",
     "start_time": "2018-12-13T17:33:29.742344Z"
    },
    "scrolled": true
   },
   "outputs": [
    {
     "name": "stdout",
     "output_type": "stream",
     "text": [
      "Num topics:  20\n",
      "1: like, would, try, taste, think, one, say, first, much, bit\n",
      "2: coffee, tea, cup, brew, drink, strong, kcup, keurig, kcups, green_tea\n",
      "3: calorie, fat, ingredient, contain, gram, per, sugar, serving, protein, sodium\n",
      "4: oil, skin, coconut_oil, vitamin, help, calcium, iron, health, hair, process\n",
      "5: sauce, chicken, soup, cook, garlic, dish, cheese, onion, pepper, noodle\n",
      "6: add, minute, make, water, easy, microwave, boil, direction, prepare, let\n",
      "7: formula, pad, cleaner, cook_top, handle, enfamil, cleaning, baby, infant, scrub\n",
      "8: review, product, star, come, however, since, read, note, plastic, another\n",
      "9: snack, chocolate, eat, apple, bar, sweet, crunchy, cooky, fruit, nut\n",
      "10: open, bag, package, take, get, two, keep, container, small, size\n",
      "11: company, new, acid, system, become, show, oz, consumer, bean, american\n",
      "12: amazon, price, save, subscribe, buy, find, store, pay, local, sell\n",
      "13: use, mix, recipe, bake, butter, milk, powder, egg, popcorn, dry\n",
      "14: gluten, pasta, free, flour, barilla, wheat, texture, bob, red_mill, spaghetti\n",
      "15: year, time, day, every, ago, last, never, back, month, week\n",
      "16: honey, stevia, sweeten, sweetener, ginger, orange, lemon, juice, cold, sweetness\n",
      "17: go, box, three, old, kid, pack, child, tell, us, hi\n",
      "18: flavor, without, nice, color, prefer, enjoy, light, mild, variety, pleasant\n",
      "19: little, less, piece, amount, stick, hard, bite, regular, thick, hold\n",
      "20: also, recommend, many, feel, anything, lot, highly, type, energy, addition\n",
      "\n"
     ]
    }
   ],
   "source": [
    "_ = get_corex_topics(top_n_corex, cv_docs, cv_features, print_flag = True)"
   ]
  },
  {
   "cell_type": "markdown",
   "metadata": {},
   "source": [
    "We can see that there are topics that emerge around coffee/tea, nutritional content, preparations, prices, pasta, and sweetener."
   ]
  },
  {
   "cell_type": "markdown",
   "metadata": {},
   "source": [
    "## Anchored CorEx"
   ]
  },
  {
   "cell_type": "markdown",
   "metadata": {},
   "source": [
    "We can use the words outputted from LDA and CorEx to anchor a CorEx model with the following specifications:\n",
    "- 8 topics are anchored using a maximum of 6 words per topic\n",
    "- `n_hidden=12` means the model will try to elicit 12 topics; this also means the model can find up to 4 topics unrelated to the anchors\n",
    "- `anchor_strength=4` anchors a topic relatively strongly to the words\n",
    "\n",
    "See the section Semi-Supervised Topic Modelling on [this](https://github.com/gregversteeg/corex_topic) page for more details."
   ]
  },
  {
   "cell_type": "code",
   "execution_count": 41,
   "metadata": {
    "ExecuteTime": {
     "end_time": "2018-12-13T17:59:48.733254Z",
     "start_time": "2018-12-13T17:58:03.919437Z"
    },
    "scrolled": true
   },
   "outputs": [
    {
     "name": "stdout",
     "output_type": "stream",
     "text": [
      "1: coffee, cup, drink, tea, brew, keurig, strong, kcup, kcups, green_tea\n",
      "2: ingredient, calorie, fat, serving, sodium, gram, contain, per, serve, protein\n",
      "3: add, minute, prepare, microwave, boil, direction, cook, dish, easy, chicken\n",
      "4: price, save, pay, subscribe, local, amazon, money, cost, cheaper, reasonably\n",
      "5: gluten, pasta, flour, wheat, barilla, spaghetti, free, sauce, bread, recipe\n",
      "6: honey, sweetener, sweeten, stevia, natural, help, effect, bottle, health, benefit\n",
      "7: sugar, mix, cooky, cookie, milk, keebler, chocolate_chip, shortbread, pancake, vanilla\n",
      "8: bag, package, salt, popcorn, pop, corn, kernel, salty, resealable, orville\n",
      "9: calorie, oil, fat, coconut_oil, saturate, trans, cholesterol, skin, vitamin, olive_oil\n",
      "10: one, get, go, first, even, could, know, take, thing, see\n",
      "11: flavor, note, nice, side, slightly, enjoy, type, mild, color, either\n",
      "12: would, try, think, taste, say, give, much, bit, something, review\n",
      "13: use, make, water, also, well, open, top, put, time, need\n",
      "14: snack, eat, apple, crunchy, chocolate, bar, fruit, sweet, nut, cracker\n",
      "15: like, product, look, food, really, less, seem, lot, include, label\n",
      "16: find, year, two, come, since, day, never, back, ago, brand\n"
     ]
    }
   ],
   "source": [
    "topic_model = ct.Corex(n_hidden=16, seed = 10)  \n",
    "topic_model.fit(cv_docs, words=cv_features,\\\n",
    "                anchors = [['coffee', 'tea', 'cup', 'brew', 'drink', 'keurig'],\\\n",
    "                           ['calorie', 'fat', 'ingredient', 'serving', 'sodium'],\\\n",
    "                           ['add', 'minute', 'microwave', 'boil', 'direction', 'prepare'],\\\n",
    "                           ['price', 'save', 'subscribe', 'pay', 'local'],\\\n",
    "                           ['gluten', 'pasta', 'flour', 'barilla', 'wheat', 'spaghetti'],\\\n",
    "                           ['honey', 'stevia', 'sweeten', 'sweetener'],\\\n",
    "                           ['cooky', 'cookie', 'sugar', 'mix'],\\\n",
    "                           ['popcorn', 'pop', 'corn', 'salt', 'bag', 'package'],\\\n",
    "                           ['fat', 'calorie', 'oil', 'coconut_oil']\\\n",
    "                          ], anchor_strength=4) #, docs=docs))\n",
    "\n",
    "topics = topic_model.get_topics()\n",
    "for topic_n,topic in enumerate(topics):\n",
    "    words,mis = zip(*topic)\n",
    "    topic_str = str(topic_n+1)+': '+', '.join(words)\n",
    "    print(topic_str)"
   ]
  },
  {
   "cell_type": "markdown",
   "metadata": {},
   "source": [
    "# Custom Word2Vec Model"
   ]
  },
  {
   "cell_type": "markdown",
   "metadata": {
    "ExecuteTime": {
     "end_time": "2018-12-13T21:00:09.949294Z",
     "start_time": "2018-12-13T21:00:09.946102Z"
    }
   },
   "source": [
    "Let's say we're happy with the ten more-or-less coherent topics that emerge above. We can now estimate the proportion of reviews that contain each topic by applying string matches on the constituent words. One way to find additional tokens that are relevant to a topic is to use word embeddings. These come from a Word2Vec model trained on our corpus in [this](insert link) notebook."
   ]
  },
  {
   "cell_type": "code",
   "execution_count": 102,
   "metadata": {
    "ExecuteTime": {
     "end_time": "2018-12-17T19:59:42.983097Z",
     "start_time": "2018-12-17T19:59:40.901431Z"
    }
   },
   "outputs": [],
   "source": [
    "model_big = Word2Vec.load(\"../word2vec_all.model\")"
   ]
  },
  {
   "cell_type": "markdown",
   "metadata": {
    "ExecuteTime": {
     "end_time": "2018-12-17T20:06:54.315843Z",
     "start_time": "2018-12-17T20:06:54.310152Z"
    }
   },
   "source": [
    "The `gensim` model has a `most_similar()` function which enables us to retrieve the top n tokens most similar (i.e. closest in n-dimensional space) to one given.\n",
    "\n",
    "For instance, below are the top 10 tokens most similar to 'coffee'. Notice, interestingly, that Word2Vec is an effective way to identify and overcome typos. "
   ]
  },
  {
   "cell_type": "code",
   "execution_count": 111,
   "metadata": {
    "ExecuteTime": {
     "end_time": "2018-12-17T20:09:43.474813Z",
     "start_time": "2018-12-17T20:09:43.467935Z"
    },
    "scrolled": true
   },
   "outputs": [
    {
     "data": {
      "text/plain": [
       "[('coffe', 0.8115454912185669),\n",
       " ('espresso', 0.8087444305419922),\n",
       " ('java', 0.7499706745147705),\n",
       " ('coffees', 0.7019534111022949),\n",
       " ('cappuccino', 0.6990188360214233),\n",
       " ('brew', 0.6959743499755859),\n",
       " ('decaf', 0.6938413381576538),\n",
       " ('starbucks', 0.6865791082382202),\n",
       " ('expresso', 0.6716079115867615),\n",
       " ('folgers', 0.6431935429573059)]"
      ]
     },
     "execution_count": 111,
     "metadata": {},
     "output_type": "execute_result"
    }
   ],
   "source": [
    "model_big.most_similar(positive = ['coffee'], topn=10)"
   ]
  },
  {
   "cell_type": "markdown",
   "metadata": {},
   "source": [
    "We can also do sense checks by looking at a sample of reviews that contain a token of interest: "
   ]
  },
  {
   "cell_type": "code",
   "execution_count": 142,
   "metadata": {
    "ExecuteTime": {
     "end_time": "2018-12-17T20:27:45.169998Z",
     "start_time": "2018-12-17T20:27:45.124135Z"
    },
    "scrolled": true
   },
   "outputs": [
    {
     "name": "stdout",
     "output_type": "stream",
     "text": [
      "I drink all kinds of non-black decaf teas.  A friend of mine brought some of this Wild Sweet Orange for me to try.  OMG!  Just the smell from the teabag is delicious!  And that incredible taste carries over into the actual brewed tea (unlike coffee, for example, where the beans smell incredible but then you brew them and it's just ..eh.).  It's the smell and flavor of a ripe orange - without any acidity.  It's simply delicious.  Anyway, as soon as I tried it, I bought a box.  And then another.  I love it.\n",
      "\n",
      "This product has good flavor for a decaf coffee.  I was using S&S to keep stocked, but it was canceled.  The only downside to the product is that I had to transfer the pods to a airtight container after opening the bag.  The bag wouldn't open cleanly, and you couldn't get it to close tightly.\n",
      "\n",
      "I am very impressed. I saw the reviews and just had to try some, the reviews for this tea are incredible. The teabags do not have tags or strings, which is a bummer, but the taste of the tea makes you forget about that little detail. It just has this strong, smooth flavor, yet not bitter... This is some of the best tea I've tried. I want to get it in decaf too so I can drink it in the evening without the caffeine keeping me awake. Highly recommend.\n",
      "\n"
     ]
    }
   ],
   "source": [
    "for i in df[df.tokenized_text.str.contains('decaf')].reviewText.values[:3]:\n",
    "    print(i); print('')"
   ]
  },
  {
   "cell_type": "markdown",
   "metadata": {},
   "source": [
    "# Count Topics"
   ]
  },
  {
   "cell_type": "markdown",
   "metadata": {
    "ExecuteTime": {
     "end_time": "2018-12-17T21:09:59.734756Z",
     "start_time": "2018-12-17T21:09:59.729494Z"
    }
   },
   "source": [
    "We now create a topic dictionary using tokens from the topic models and the Word2Vec model:"
   ]
  },
  {
   "cell_type": "code",
   "execution_count": 158,
   "metadata": {
    "ExecuteTime": {
     "end_time": "2018-12-17T20:53:42.445813Z",
     "start_time": "2018-12-17T20:53:42.403670Z"
    },
    "scrolled": false
   },
   "outputs": [],
   "source": [
    "coffee_anchor = ['coffee', 'cup', 'drink', 'tea', 'brew', 'keurig', 'kcup', 'green_tea']\n",
    "coffee_extra = [i[0] for i in model_big.most_similar(positive = ['coffee'], topn=10)]\n",
    "ingredients_anchor = ['ingredient', 'calorie', 'fat', 'serving', 'sodium', ' gram', 'contain ', ' per ', 'serve', 'protein']\n",
    "ingredients_extra = [i[0] for i in model_big.most_similar(positive = ['ingredient'], topn=10)]\n",
    "directions_anchor = ['minute', 'prepare', 'microwave', 'boil', 'direction', 'cook', 'easy']\n",
    "directions_extra = [i[0] for i in model_big.most_similar(positive = ['prepare'], topn=10)]\n",
    "price_anchor = ['price', 'save' , 'pay', 'subscribe', 'money', 'cost', 'cheaper', 'reasonably']\n",
    "price_extra = [i[0] for i in model_big.most_similar(positive = ['price'], topn=10)]\n",
    "wheatprods_anchor = ['gluten', 'pasta', 'flour', 'wheat', 'barilla', 'spaghetti', 'bread']\n",
    "wheatprods_extra = [i[0] for i in model_big.most_similar(positive = ['pasta'], topn=10)]\n",
    "sweetener_anchor = ['honey', 'sweetener', 'sweeten', 'stevia']\n",
    "sweetener_extra = [i[0] for i in model_big.most_similar(positive = ['sweetener'], topn=10)]\n",
    "cookies_anchor = ['cooky', 'cookie', 'mix', 'keebler', 'chocolate_chip', 'shortbread', 'pancake']\n",
    "cookies_extra = [i[0] for i in model_big.most_similar(positive = ['cookie'], topn=10)]\n",
    "popcorn_anchor = ['corn', 'popcorn', 'pop', 'kernel', 'orville', 'resealable']\n",
    "popcorn_extra = [i[0] for i in model_big.most_similar(positive = ['popcorn'], topn=10)]\n",
    "oil_anchor = ['oil', 'fat', 'coconut_oil', 'saturate', 'trans', 'cholesterol', 'olive_oil']\n",
    "oil_extra = [i[0] for i in model_big.most_similar(positive = ['olive'], topn=10)]\n",
    "snacks_anchor = ['snack', 'apple', 'crunchy', 'chocolate', 'bar', 'fruit', 'sweet', 'nut', 'cracker']\n",
    "snacks_extra = [i[0] for i in model_big.most_similar(positive = ['snack'], topn=10)]"
   ]
  },
  {
   "cell_type": "code",
   "execution_count": 162,
   "metadata": {
    "ExecuteTime": {
     "end_time": "2018-12-17T21:01:19.303632Z",
     "start_time": "2018-12-17T21:01:19.298957Z"
    }
   },
   "outputs": [],
   "source": [
    "topic_dict = {'t_drinks': coffee_anchor+coffee_extra,\\\n",
    "              't_ingredients': ingredients_anchor+ingredients_extra,\\\n",
    "              't_directions': directions_anchor+directions_extra,\\\n",
    "              't_prices': price_anchor+price_extra,\\\n",
    "              't_pasta_bread': wheatprods_anchor+wheatprods_extra,\\\n",
    "              't_sweetener': sweetener_anchor+sweetener_extra,\\\n",
    "              't_cookies': cookies_anchor+cookies_extra,\\\n",
    "              't_popcorn': popcorn_anchor+popcorn_extra,\\\n",
    "              't_oil': oil_anchor+oil_extra,\\\n",
    "              't_snacks': snacks_anchor+snacks_extra\\\n",
    "             }"
   ]
  },
  {
   "cell_type": "code",
   "execution_count": 175,
   "metadata": {
    "ExecuteTime": {
     "end_time": "2018-12-17T21:02:18.703309Z",
     "start_time": "2018-12-17T21:02:18.698486Z"
    }
   },
   "outputs": [
    {
     "name": "stdout",
     "output_type": "stream",
     "text": [
      "Topic: t_drinks\n",
      "Words: ['coffee', 'cup', 'drink', 'tea', 'brew', 'keurig', 'kcup', 'green_tea', 'coffe', 'espresso', 'java', 'coffees', 'cappuccino', 'brew', 'decaf', 'starbucks', 'expresso', 'folgers']\n",
      "\n",
      "Topic: t_ingredients\n",
      "Words: ['ingredient', 'calorie', 'fat', 'serving', 'sodium', ' gram', 'contain ', ' per ', 'serve', 'protein', 'ingredients', 'ingrediant', '60why', 'ingrident', 'mid1976', 'paragraph', 'listed', 'component', 'juie', 'maltodextrin']\n",
      "\n",
      "Topic: t_directions\n",
      "Words: ['minute', 'prepare', 'microwave', 'boil', 'direction', 'cook', 'easy', 'cook', 'prep', 'miscalculate', 'access', 'make', 'preparation', 'peasy', 'retrieval', 'overindulge', 'cleanup']\n",
      "\n",
      "Topic: t_prices\n",
      "Words: ['price', 'save', 'pay', 'subscribe', 'money', 'cost', 'cheaper', 'reasonably', 'pricing', 'cost', 'prices', 'priced', 'discount', 'value', 'deal', 'bargain', 'expense', 'hting']\n",
      "\n",
      "Topic: t_pasta_bread\n",
      "Words: ['gluten', 'pasta', 'flour', 'wheat', 'barilla', 'spaghetti', 'bread', 'spaghetti', 'linguine', 'couscous', 'penne', 'rotini', 'lasagna', 'barilla', 'noodles', 'vermicelli', 'pastas']\n",
      "\n",
      "Topic: t_sweetener\n",
      "Words: ['honey', 'sweetener', 'sweeten', 'stevia', 'sweetner', 'sweeteners', 'splenda', 'stevia', 'truvia', 'sucralose', 'sweetening', 'erythritol', 'sweetners', 'nutrasweet']\n",
      "\n",
      "Topic: t_cookies\n",
      "Words: ['cooky', 'cookie', 'mix', 'keebler', 'chocolate_chip', 'shortbread', 'pancake', 'cracker', 'brownie', 'cookies', 'oreo', 'bar', 'marshmallow', 'wafer', 'fudge', 'shortbread', 'crust']\n",
      "\n",
      "Topic: t_popcorn\n",
      "Words: ['corn', 'popcorn', 'pop', 'kernel', 'orville', 'resealable', 'popper', 'orville', 'redenbacher', 'theater', 'movie', 'popcorns', 'cheddar', 'stuff', 'kernels', 'popped']\n",
      "\n",
      "Topic: t_oil\n",
      "Words: ['oil', 'fat', 'coconut_oil', 'saturate', 'trans', 'cholesterol', 'olive_oil', 'grapeseed', 'vegeatables', 'avocado', 'soybean', 'aniseed', 'basalmic', 'ouncestaste', 'coconut', 'canola', 'safflower']\n",
      "\n",
      "Topic: t_snacks\n",
      "Words: ['snack', 'apple', 'crunchy', 'chocolate', 'bar', 'fruit', 'sweet', 'nut', 'cracker', 'snacks', 'treat', 'snacking', 'lunch', 'pickmeup', 'meal', 'dessert', 'onthego', 'lunches', 'treats']\n",
      "\n"
     ]
    }
   ],
   "source": [
    "for i in topic_dict:\n",
    "    print('Topic:', i)\n",
    "    print('Words:', topic_dict[i])\n",
    "    print('')"
   ]
  },
  {
   "cell_type": "code",
   "execution_count": 181,
   "metadata": {
    "ExecuteTime": {
     "end_time": "2018-12-17T21:11:37.580065Z",
     "start_time": "2018-12-17T21:11:34.366474Z"
    },
    "scrolled": false
   },
   "outputs": [
    {
     "data": {
      "text/plain": [
       "t_drinks         33.86\n",
       "t_ingredients    22.55\n",
       "t_directions     40.52\n",
       "t_prices         23.74\n",
       "t_pasta_bread    13.57\n",
       "t_sweetener       6.89\n",
       "t_cookies        21.80\n",
       "t_popcorn        12.70\n",
       "t_oil            14.55\n",
       "t_snacks         47.33\n",
       "dtype: float64"
      ]
     },
     "execution_count": 181,
     "metadata": {},
     "output_type": "execute_result"
    }
   ],
   "source": [
    "df_matches = df.copy()\n",
    "\n",
    "for key, value in topic_dict.items():\n",
    "    word_list = '|'.join(value)\n",
    "    df_matches[key] = df_matches.tokenized_text.str.contains(word_list).astype(int)\n",
    "    \n",
    "df_matches[df_matches.columns[-len(topic_dict.keys()):]].sum(axis = 0).apply(lambda x: round(x/len(df_matches)*100,2))"
   ]
  },
  {
   "cell_type": "markdown",
   "metadata": {
    "ExecuteTime": {
     "end_time": "2018-12-14T18:23:55.666626Z",
     "start_time": "2018-12-14T18:23:55.638553Z"
    }
   },
   "source": [
    "The output shows that ~34% of reviews are coffee/tea related and ~50% of the reviews are snack related. 24% of reviews discuss cost, etc."
   ]
  },
  {
   "cell_type": "code",
   "execution_count": 186,
   "metadata": {
    "ExecuteTime": {
     "end_time": "2018-12-17T21:22:02.425693Z",
     "start_time": "2018-12-17T21:22:02.408684Z"
    },
    "scrolled": false
   },
   "outputs": [
    {
     "data": {
      "text/html": [
       "<div>\n",
       "<style scoped>\n",
       "    .dataframe tbody tr th:only-of-type {\n",
       "        vertical-align: middle;\n",
       "    }\n",
       "\n",
       "    .dataframe tbody tr th {\n",
       "        vertical-align: top;\n",
       "    }\n",
       "\n",
       "    .dataframe thead th {\n",
       "        text-align: right;\n",
       "    }\n",
       "</style>\n",
       "<table border=\"1\" class=\"dataframe\">\n",
       "  <thead>\n",
       "    <tr style=\"text-align: right;\">\n",
       "      <th></th>\n",
       "      <th>reviewerID</th>\n",
       "      <th>asin</th>\n",
       "      <th>reviewerName</th>\n",
       "      <th>helpful</th>\n",
       "      <th>reviewText</th>\n",
       "      <th>overall</th>\n",
       "      <th>summary</th>\n",
       "      <th>unixReviewTime</th>\n",
       "      <th>reviewTime</th>\n",
       "      <th>review_year</th>\n",
       "      <th>reviews_clean</th>\n",
       "      <th>reviews_regram</th>\n",
       "      <th>tokenized_text</th>\n",
       "      <th>t_drinks</th>\n",
       "      <th>t_ingredients</th>\n",
       "      <th>t_directions</th>\n",
       "      <th>t_prices</th>\n",
       "      <th>t_pasta_bread</th>\n",
       "      <th>t_sweetener</th>\n",
       "      <th>t_cookies</th>\n",
       "      <th>t_popcorn</th>\n",
       "      <th>t_oil</th>\n",
       "      <th>t_snacks</th>\n",
       "    </tr>\n",
       "  </thead>\n",
       "  <tbody>\n",
       "    <tr>\n",
       "      <th>0</th>\n",
       "      <td>A1VEELTKS8NLZB</td>\n",
       "      <td>616719923X</td>\n",
       "      <td>Amazon Customer</td>\n",
       "      <td>[0, 0]</td>\n",
       "      <td>Just another flavor of Kit Kat but the taste i...</td>\n",
       "      <td>4.0</td>\n",
       "      <td>Good Taste</td>\n",
       "      <td>1370044800</td>\n",
       "      <td>06 1, 2013</td>\n",
       "      <td>2013</td>\n",
       "      <td>just another flavor of kit kat but the taste i...</td>\n",
       "      <td>just another flavor of kit kat but the taste i...</td>\n",
       "      <td>another flavor kit kat taste unique bit differ...</td>\n",
       "      <td>0</td>\n",
       "      <td>0</td>\n",
       "      <td>0</td>\n",
       "      <td>1</td>\n",
       "      <td>0</td>\n",
       "      <td>0</td>\n",
       "      <td>0</td>\n",
       "      <td>0</td>\n",
       "      <td>0</td>\n",
       "      <td>0</td>\n",
       "    </tr>\n",
       "    <tr>\n",
       "      <th>1</th>\n",
       "      <td>A27IQHDZFQFNGG</td>\n",
       "      <td>616719923X</td>\n",
       "      <td>Caitlin</td>\n",
       "      <td>[3, 4]</td>\n",
       "      <td>Really good. Great gift for any fan of green t...</td>\n",
       "      <td>4.0</td>\n",
       "      <td>Yum!</td>\n",
       "      <td>1381190400</td>\n",
       "      <td>10 8, 2013</td>\n",
       "      <td>2013</td>\n",
       "      <td>really good  great gift for any fan of green t...</td>\n",
       "      <td>really good  great gift for any fan of green_t...</td>\n",
       "      <td>really good great gift fan green_tea expensive...</td>\n",
       "      <td>1</td>\n",
       "      <td>0</td>\n",
       "      <td>0</td>\n",
       "      <td>0</td>\n",
       "      <td>0</td>\n",
       "      <td>0</td>\n",
       "      <td>0</td>\n",
       "      <td>0</td>\n",
       "      <td>0</td>\n",
       "      <td>0</td>\n",
       "    </tr>\n",
       "  </tbody>\n",
       "</table>\n",
       "</div>"
      ],
      "text/plain": [
       "       reviewerID        asin     reviewerName helpful  \\\n",
       "0  A1VEELTKS8NLZB  616719923X  Amazon Customer  [0, 0]   \n",
       "1  A27IQHDZFQFNGG  616719923X          Caitlin  [3, 4]   \n",
       "\n",
       "                                          reviewText  overall     summary  \\\n",
       "0  Just another flavor of Kit Kat but the taste i...      4.0  Good Taste   \n",
       "1  Really good. Great gift for any fan of green t...      4.0        Yum!   \n",
       "\n",
       "   unixReviewTime  reviewTime  review_year  \\\n",
       "0      1370044800  06 1, 2013         2013   \n",
       "1      1381190400  10 8, 2013         2013   \n",
       "\n",
       "                                       reviews_clean  \\\n",
       "0  just another flavor of kit kat but the taste i...   \n",
       "1  really good  great gift for any fan of green t...   \n",
       "\n",
       "                                      reviews_regram  \\\n",
       "0  just another flavor of kit kat but the taste i...   \n",
       "1  really good  great gift for any fan of green_t...   \n",
       "\n",
       "                                      tokenized_text  t_drinks  t_ingredients  \\\n",
       "0  another flavor kit kat taste unique bit differ...         0              0   \n",
       "1  really good great gift fan green_tea expensive...         1              0   \n",
       "\n",
       "   t_directions  t_prices  t_pasta_bread  t_sweetener  t_cookies  t_popcorn  \\\n",
       "0             0         1              0            0          0          0   \n",
       "1             0         0              0            0          0          0   \n",
       "\n",
       "   t_oil  t_snacks  \n",
       "0      0         0  \n",
       "1      0         0  "
      ]
     },
     "metadata": {},
     "output_type": "display_data"
    }
   ],
   "source": [
    "display_all(df_matches[:2])"
   ]
  },
  {
   "cell_type": "code",
   "execution_count": 183,
   "metadata": {
    "ExecuteTime": {
     "end_time": "2018-12-17T21:17:49.099183Z",
     "start_time": "2018-12-17T21:17:47.031843Z"
    }
   },
   "outputs": [],
   "source": [
    "now = time.strftime('%Y%m%d_%H%M')\n",
    "df_matches.to_csv('tm_output_%s.csv' %now, index = False)"
   ]
  },
  {
   "cell_type": "markdown",
   "metadata": {},
   "source": [
    "And that's it! This is just a toy example and additional tuning that can be applied include:\n",
    "- A wider grid search for hyperparameter `n` in the topic models \n",
    "- Anchoring pre-identified words of interest. For instance, if my client was Heinz and they wanted to understand what proportion of reviews relate to sauces, I could seed a topic constituting of anchor words around 'ketchup', 'mustard', 'mayonaise', and similar words identified through the Word2Vec model.\n",
    "- More sophistcated word matching logic. For instance, if I was particular interested in 'salty popcorn', I would not use the syntax above, which would catch all reviews containing 'salty' and 'popcorn' separately. I would also not want to match on 'salty popcorn' exactly, which would miss reviews that say, 'This popcorn is too salty'. Instead, I could use something like this: "
   ]
  },
  {
   "cell_type": "code",
   "execution_count": 3,
   "metadata": {
    "ExecuteTime": {
     "end_time": "2019-03-12T21:16:02.937080Z",
     "start_time": "2019-03-12T21:16:02.907922Z"
    },
    "scrolled": false
   },
   "outputs": [
    {
     "data": {
      "text/html": [
       "<div>\n",
       "<style scoped>\n",
       "    .dataframe tbody tr th:only-of-type {\n",
       "        vertical-align: middle;\n",
       "    }\n",
       "\n",
       "    .dataframe tbody tr th {\n",
       "        vertical-align: top;\n",
       "    }\n",
       "\n",
       "    .dataframe thead th {\n",
       "        text-align: right;\n",
       "    }\n",
       "</style>\n",
       "<table border=\"1\" class=\"dataframe\">\n",
       "  <thead>\n",
       "    <tr style=\"text-align: right;\">\n",
       "      <th></th>\n",
       "      <th>0</th>\n",
       "      <th>flag</th>\n",
       "    </tr>\n",
       "  </thead>\n",
       "  <tbody>\n",
       "    <tr>\n",
       "      <th>0</th>\n",
       "      <td>this popcorn is too sweet, do not recommend</td>\n",
       "      <td>0</td>\n",
       "    </tr>\n",
       "    <tr>\n",
       "      <th>1</th>\n",
       "      <td>gosh this popcorn is salty</td>\n",
       "      <td>1</td>\n",
       "    </tr>\n",
       "    <tr>\n",
       "      <th>2</th>\n",
       "      <td>this popcorn contains 100mg salt</td>\n",
       "      <td>0</td>\n",
       "    </tr>\n",
       "    <tr>\n",
       "      <th>3</th>\n",
       "      <td>i could live on salty popcorn</td>\n",
       "      <td>1</td>\n",
       "    </tr>\n",
       "  </tbody>\n",
       "</table>\n",
       "</div>"
      ],
      "text/plain": [
       "                                             0  flag\n",
       "0  this popcorn is too sweet, do not recommend     0\n",
       "1                   gosh this popcorn is salty     1\n",
       "2             this popcorn contains 100mg salt     0\n",
       "3                i could live on salty popcorn     1"
      ]
     },
     "execution_count": 3,
     "metadata": {},
     "output_type": "execute_result"
    }
   ],
   "source": [
    "word_ls = ['salty', 'popcorn']\n",
    "sentence1 = 'this popcorn is too sweet, do not recommend'\n",
    "sentence2 = 'gosh this popcorn is salty'\n",
    "sentence3 = 'this popcorn contains 100mg salt'\n",
    "sentence4 = 'i could live on salty popcorn'\n",
    "test = pd.DataFrame(list([sentence1, sentence2, sentence3, sentence4]))\n",
    "test['flag'] = test[0].apply(lambda x: int(all(word in x for word in word_ls)))\n",
    "test"
   ]
  }
 ],
 "metadata": {
  "kernelspec": {
   "display_name": "Python 3",
   "language": "python",
   "name": "python3"
  },
  "language_info": {
   "codemirror_mode": {
    "name": "ipython",
    "version": 3
   },
   "file_extension": ".py",
   "mimetype": "text/x-python",
   "name": "python",
   "nbconvert_exporter": "python",
   "pygments_lexer": "ipython3",
   "version": "3.6.7"
  },
  "toc": {
   "base_numbering": 1,
   "nav_menu": {},
   "number_sections": true,
   "sideBar": true,
   "skip_h1_title": false,
   "title_cell": "Table of Contents",
   "title_sidebar": "Contents",
   "toc_cell": false,
   "toc_position": {
    "height": "608px",
    "left": "545px",
    "top": "110px",
    "width": "259px"
   },
   "toc_section_display": true,
   "toc_window_display": false
  }
 },
 "nbformat": 4,
 "nbformat_minor": 2
}
